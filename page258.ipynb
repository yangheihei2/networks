{
 "cells": [
  {
   "cell_type": "code",
   "execution_count": 1,
   "id": "9fed591d-d2f1-48c8-a761-c8c38aa098cc",
   "metadata": {
    "scrolled": true
   },
   "outputs": [],
   "source": [
    "import numpy as np\n",
    "n = 5\n",
    "start_point = 3\n",
    "read_pointer = 0\n",
    "writer_pointer = 1\n",
    "queue = np.zeros(shape = (1,n))\n",
    "distance = np.zeros(shape = (1,n))-1\n",
    "distance[0,start_point-1] = 0\n",
    "queue[0,0] = start_point\n"
   ]
  },
  {
   "attachments": {
    "cd4f5fa7-1eb3-4a5d-bf8a-5bceb68828a8.png": {
     "image/png": "[encoded data removed]"
    }
   },
   "cell_type": "markdown",
   "id": "724b8643-ceee-4fee-a9e3-7c9140162301",
   "metadata": {},
   "source": [
    "![image.png](attachment:cd4f5fa7-1eb3-4a5d-bf8a-5bceb68828a8.png)"
   ]
  },
  {
   "cell_type": "code",
   "execution_count": 2,
   "id": "b5ae1d5d-5723-40e5-aefb-e89e37a511ad",
   "metadata": {},
   "outputs": [],
   "source": [
    "graph = [[3,4],[],[4,1],[5,1,3],[4]]\n",
    "def find_neighbors(i,graph):\n",
    "    return graph[i-1]"
   ]
  },
  {
   "cell_type": "code",
   "execution_count": 3,
   "id": "07acc872-51c9-4c0a-82af-2b7f18e0649f",
   "metadata": {},
   "outputs": [],
   "source": [
    "while(read_pointer != writer_pointer):\n",
    "    read_queue = int(queue[0,read_pointer])\n",
    "    dis = distance[0,read_queue-1]\n",
    "    read_pointer += 1\n",
    "    neibors = find_neighbors(read_queue,graph)\n",
    "    for i in neibors:\n",
    "        if distance[0,i-1] == -1:\n",
    "            queue[0,writer_pointer] = i\n",
    "            distance[0,i-1] = dis+1\n",
    "            writer_pointer += 1 "
   ]
  },
  {
   "cell_type": "code",
   "execution_count": 4,
   "id": "28689f08-c06c-4feb-80ea-8dd3f6c52d03",
   "metadata": {},
   "outputs": [
    {
     "data": {
      "text/plain": [
       "(array([[3., 4., 1., 5., 0.]]), array([[ 1., -1.,  0.,  1.,  2.]]))"
      ]
     },
     "execution_count": 4,
     "metadata": {},
     "output_type": "execute_result"
    }
   ],
   "source": [
    "queue,distance"
   ]
  },
  {
   "cell_type": "code",
   "execution_count": null,
   "id": "faf606ed-5de9-4124-a38c-06f04b832688",
   "metadata": {},
   "outputs": [],
   "source": []
  },
  {
   "cell_type": "code",
   "execution_count": null,
   "id": "46b910b7-7e98-46be-9fce-a4205f942237",
   "metadata": {},
   "outputs": [],
   "source": []
  },
  {
   "cell_type": "code",
   "execution_count": null,
   "id": "2f14907d-5ba0-464d-8c42-0940cc392799",
   "metadata": {},
   "outputs": [],
   "source": []
  }
 ],
 "metadata": {
  "kernelspec": {
   "display_name": "Python 3 (ipykernel)",
   "language": "python",
   "name": "python3"
  },
  "language_info": {
   "codemirror_mode": {
    "name": "ipython",
    "version": 3
   },
   "file_extension": ".py",
   "mimetype": "text/x-python",
   "name": "python",
   "nbconvert_exporter": "python",
   "pygments_lexer": "ipython3",
   "version": "3.12.3"
  }
 },
 "nbformat": 4,
 "nbformat_minor": 5
}
